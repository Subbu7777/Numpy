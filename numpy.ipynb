{
 "cells": [
  {
   "cell_type": "code",
   "execution_count": 2,
   "id": "df642849",
   "metadata": {},
   "outputs": [
    {
     "data": {
      "text/plain": [
       "158"
      ]
     },
     "execution_count": 2,
     "metadata": {},
     "output_type": "execute_result"
    }
   ],
   "source": [
    "w=[3,4,5,6,7]\n",
    "x=[9,8,7,6,4]  #vectorization; first multiply one with another and then add the list\n",
    "n.dot(w,x)"
   ]
  },
  {
   "cell_type": "code",
   "execution_count": 1,
   "id": "5c33fcc0",
   "metadata": {},
   "outputs": [],
   "source": [
    "import numpy as n"
   ]
  },
  {
   "cell_type": "code",
   "execution_count": 4,
   "id": "7c76b944",
   "metadata": {},
   "outputs": [
    {
     "data": {
      "text/plain": [
       "array([[[7, 7],\n",
       "        [7, 7],\n",
       "        [7, 7],\n",
       "        [7, 7]],\n",
       "\n",
       "       [[7, 7],\n",
       "        [7, 7],\n",
       "        [7, 7],\n",
       "        [7, 7]],\n",
       "\n",
       "       [[7, 7],\n",
       "        [7, 7],\n",
       "        [7, 7],\n",
       "        [7, 7]]])"
      ]
     },
     "execution_count": 4,
     "metadata": {},
     "output_type": "execute_result"
    }
   ],
   "source": [
    "n.full((3,4,2),7)"
   ]
  },
  {
   "cell_type": "code",
   "execution_count": 3,
   "id": "562c824a",
   "metadata": {},
   "outputs": [
    {
     "name": "stdout",
     "output_type": "stream",
     "text": [
      "[9.74480345e+09 3.49342711e+19 7.38905610e+00 1.31881573e+09\n",
      " 5.83461743e+14]\n"
     ]
    },
    {
     "data": {
      "text/plain": [
       "array([1.36172784, 1.65321251, 0.30103   , 1.32221929, 1.53147892])"
      ]
     },
     "execution_count": 3,
     "metadata": {},
     "output_type": "execute_result"
    }
   ],
   "source": [
    "aj=n.array([23,45,2,21,34])\n",
    "print(n.exp(aj))\n",
    "n.log10(aj)# to print exponential of the  value"
   ]
  },
  {
   "cell_type": "code",
   "execution_count": 4,
   "id": "0384e294",
   "metadata": {},
   "outputs": [
    {
     "name": "stdout",
     "output_type": "stream",
     "text": [
      "[ 43 432  12]\n",
      "1\n",
      "(3,)\n",
      "3\n"
     ]
    }
   ],
   "source": [
    "a=n.array([43,432,12])\n",
    "print(a)\n",
    "print(n.ndim(a))\n",
    "print(a.shape)\n",
    "print(a.size)"
   ]
  },
  {
   "cell_type": "code",
   "execution_count": 17,
   "id": "6ee07950",
   "metadata": {},
   "outputs": [
    {
     "name": "stdout",
     "output_type": "stream",
     "text": [
      "(3, 3)\n",
      "9\n",
      "2\n",
      "[[  43]\n",
      " [   2]\n",
      " [  21]\n",
      " [  43]\n",
      " [  65]\n",
      " [  76]\n",
      " [ 432]\n",
      " [  12]\n",
      " [4354]]\n"
     ]
    }
   ],
   "source": [
    "b=n.array([[43,2,21],[43,65,76],[432,12,4354]])\n",
    "print(b.shape)\n",
    "print(b.size)\n",
    "print(n.ndim(b))\n",
    "p=b.reshape((9,1))  #array.reshape(())\n",
    "print(p)"
   ]
  },
  {
   "cell_type": "code",
   "execution_count": 14,
   "id": "f38c052f",
   "metadata": {},
   "outputs": [
    {
     "data": {
      "text/plain": [
       "(array([ 3.        ,  3.91111111,  4.82222222,  5.73333333,  6.64444444,\n",
       "         7.55555556,  8.46666667,  9.37777778, 10.28888889, 11.2       ,\n",
       "        12.11111111, 13.02222222, 13.93333333, 14.84444444, 15.75555556,\n",
       "        16.66666667, 17.57777778, 18.48888889, 19.4       , 20.31111111,\n",
       "        21.22222222, 22.13333333, 23.04444444, 23.95555556, 24.86666667,\n",
       "        25.77777778, 26.68888889, 27.6       , 28.51111111, 29.42222222,\n",
       "        30.33333333, 31.24444444, 32.15555556, 33.06666667, 33.97777778,\n",
       "        34.88888889, 35.8       , 36.71111111, 37.62222222, 38.53333333,\n",
       "        39.44444444, 40.35555556, 41.26666667, 42.17777778, 43.08888889]),\n",
       " 0.9111111111111111)"
      ]
     },
     "execution_count": 14,
     "metadata": {},
     "output_type": "execute_result"
    }
   ],
   "source": [
    "n.arange(4,44,9)\n",
    "n.linspace(3,44,45,endpoint=False,retstep=True)"
   ]
  },
  {
   "cell_type": "markdown",
   "id": "efe0d97e",
   "metadata": {},
   "source": [
    "# flatten to convert any to one dimension"
   ]
  },
  {
   "cell_type": "code",
   "execution_count": 39,
   "id": "a0575e6c",
   "metadata": {},
   "outputs": [
    {
     "name": "stdout",
     "output_type": "stream",
     "text": [
      "[  43   43  432    2   65   12   21   76 4354]\n"
     ]
    },
    {
     "data": {
      "text/plain": [
       "array([  43,    2,   21,   43,   65,   76,  432,   12, 4354])"
      ]
     },
     "execution_count": 39,
     "metadata": {},
     "output_type": "execute_result"
    }
   ],
   "source": [
    "print(b.flatten(order='F')) # clmn wise \n",
    "b.flatten() # row wise"
   ]
  },
  {
   "cell_type": "code",
   "execution_count": 40,
   "id": "fe5da023",
   "metadata": {},
   "outputs": [
    {
     "data": {
      "text/plain": [
       "array([[  43],\n",
       "       [   2],\n",
       "       [  21],\n",
       "       [  43],\n",
       "       [  65],\n",
       "       [  76],\n",
       "       [ 432],\n",
       "       [  12],\n",
       "       [4354]])"
      ]
     },
     "execution_count": 40,
     "metadata": {},
     "output_type": "execute_result"
    }
   ],
   "source": []
  },
  {
   "cell_type": "code",
   "execution_count": 25,
   "id": "4ad69fa9",
   "metadata": {},
   "outputs": [
    {
     "name": "stdout",
     "output_type": "stream",
     "text": [
      "[[[43 23  3]\n",
      "  [43 65  7]\n",
      "  [34 23  1]]\n",
      "\n",
      " [[43 23 12]\n",
      "  [32 54 65]\n",
      "  [32  2 32]]]\n",
      "3\n",
      "(2, 3, 3)\n",
      "18\n"
     ]
    }
   ],
   "source": [
    "c=n.array([[[43,23,3],[43,65,7],[34,23,1]],[[43,23,12],[32,54,65],[32,2,32]]])\n",
    "print(c)\n",
    "print(n.ndim(c))\n",
    "print(c.shape)\n",
    "print(c.size)"
   ]
  },
  {
   "cell_type": "code",
   "execution_count": 26,
   "id": "76740dbf",
   "metadata": {},
   "outputs": [
    {
     "name": "stdout",
     "output_type": "stream",
     "text": [
      "[0. 0. 0. 0. 0.]\n",
      "[[0. 0. 0. 0.]\n",
      " [0. 0. 0. 0.]\n",
      " [0. 0. 0. 0.]]\n"
     ]
    },
    {
     "data": {
      "text/plain": [
       "array([[[0., 0., 0., 0.],\n",
       "        [0., 0., 0., 0.],\n",
       "        [0., 0., 0., 0.],\n",
       "        [0., 0., 0., 0.]],\n",
       "\n",
       "       [[0., 0., 0., 0.],\n",
       "        [0., 0., 0., 0.],\n",
       "        [0., 0., 0., 0.],\n",
       "        [0., 0., 0., 0.]],\n",
       "\n",
       "       [[0., 0., 0., 0.],\n",
       "        [0., 0., 0., 0.],\n",
       "        [0., 0., 0., 0.],\n",
       "        [0., 0., 0., 0.]]])"
      ]
     },
     "execution_count": 26,
     "metadata": {},
     "output_type": "execute_result"
    }
   ],
   "source": [
    "print(n.zeros(5))\n",
    "print(n.zeros((3,4)))\n",
    "n.zeros((3,4,4)) # 3 arrays 4 rows 4 columns"
   ]
  },
  {
   "cell_type": "code",
   "execution_count": 19,
   "id": "1a39ce8e",
   "metadata": {},
   "outputs": [
    {
     "name": "stdout",
     "output_type": "stream",
     "text": [
      "[1. 1. 1. 1.]\n",
      "[[1. 1. 1.]\n",
      " [1. 1. 1.]\n",
      " [1. 1. 1.]\n",
      " [1. 1. 1.]]\n",
      "[[[1. 1.]\n",
      "  [1. 1.]\n",
      "  [1. 1.]\n",
      "  [1. 1.]]\n",
      "\n",
      " [[1. 1.]\n",
      "  [1. 1.]\n",
      "  [1. 1.]\n",
      "  [1. 1.]]\n",
      "\n",
      " [[1. 1.]\n",
      "  [1. 1.]\n",
      "  [1. 1.]\n",
      "  [1. 1.]]]\n"
     ]
    }
   ],
   "source": [
    "print(n.ones(4))\n",
    "print(n.ones((4,3)))\n",
    "print(n.ones((3,4,2)))"
   ]
  },
  {
   "cell_type": "code",
   "execution_count": 20,
   "id": "e88492f4",
   "metadata": {},
   "outputs": [
    {
     "name": "stdout",
     "output_type": "stream",
     "text": [
      "[ 5  9 13 17 21 25 29 33 37 41 45 49 53]\n",
      "[[[ 0  1]\n",
      "  [ 2  3]\n",
      "  [ 4  5]]\n",
      "\n",
      " [[ 6  7]\n",
      "  [ 8  9]\n",
      "  [10 11]]\n",
      "\n",
      " [[12 13]\n",
      "  [14 15]\n",
      "  [16 17]]\n",
      "\n",
      " [[18 19]\n",
      "  [20 21]\n",
      "  [22 23]]]\n",
      "3\n"
     ]
    }
   ],
   "source": [
    "print(n.arange(5,55,4)); #stat end step;\n",
    "print(n.arange(24).reshape(4,3,2))\n",
    "aa=n.arange(24).reshape(4,3,2) # 4 arrays 3 rows and 2 columns\n",
    "print(n.ndim(aa))"
   ]
  },
  {
   "cell_type": "code",
   "execution_count": 21,
   "id": "dd791562",
   "metadata": {},
   "outputs": [
    {
     "data": {
      "text/plain": [
       "(array([ 4.        ,  4.65909091,  5.31818182,  5.97727273,  6.63636364,\n",
       "         7.29545455,  7.95454545,  8.61363636,  9.27272727,  9.93181818,\n",
       "        10.59090909, 11.25      , 11.90909091, 12.56818182, 13.22727273,\n",
       "        13.88636364, 14.54545455, 15.20454545, 15.86363636, 16.52272727,\n",
       "        17.18181818, 17.84090909, 18.5       , 19.15909091, 19.81818182,\n",
       "        20.47727273, 21.13636364, 21.79545455, 22.45454545, 23.11363636,\n",
       "        23.77272727, 24.43181818, 25.09090909, 25.75      , 26.40909091,\n",
       "        27.06818182, 27.72727273, 28.38636364, 29.04545455, 29.70454545,\n",
       "        30.36363636, 31.02272727, 31.68181818, 32.34090909]),\n",
       " 0.6590909090909091)"
      ]
     },
     "execution_count": 21,
     "metadata": {},
     "output_type": "execute_result"
    }
   ],
   "source": [
    "n.linspace(4,33,44,endpoint=False,retstep=True) #start end step"
   ]
  },
  {
   "cell_type": "code",
   "execution_count": 22,
   "id": "820808e2",
   "metadata": {},
   "outputs": [
    {
     "name": "stdout",
     "output_type": "stream",
     "text": [
      "[[1. 0. 0. 0.]\n",
      " [0. 1. 0. 0.]\n",
      " [0. 0. 1. 0.]\n",
      " [0. 0. 0. 1.]]\n",
      "[[1. 0. 0.]\n",
      " [0. 1. 0.]\n",
      " [0. 0. 1.]\n",
      " [0. 0. 0.]]\n",
      "[[0. 0. 0.]\n",
      " [0. 0. 0.]\n",
      " [1. 0. 0.]\n",
      " [0. 1. 0.]]\n"
     ]
    }
   ],
   "source": [
    "print(n.eye(4)) # 4 rows and 4 col\n",
    "print(n.eye(4,3))  # 4 rows and 3 clmns\n",
    "print(n.eye(4,3,-2)) # here k value is 2 so 1 at column 2"
   ]
  },
  {
   "cell_type": "code",
   "execution_count": 23,
   "id": "1e95c6bf",
   "metadata": {},
   "outputs": [
    {
     "name": "stdout",
     "output_type": "stream",
     "text": [
      "[5 6 4 5 1 2 0 3 3 0 6 3 1 0 4 5 1 6 3 5 2 5 6 0 3 6 2 4 3 4 5 4 1 4 5 6 6\n",
      " 4 5 2 4 4 5 1 1 2 5 6 3 1 1 5 5 4 0]\n",
      "55\n"
     ]
    },
    {
     "data": {
      "text/plain": [
       "numpy.ndarray"
      ]
     },
     "execution_count": 23,
     "metadata": {},
     "output_type": "execute_result"
    }
   ],
   "source": [
    "k=n.random.randint(7,size=55) \n",
    "print(k)\n",
    "print(len(k))\n",
    "type(k)                                           # important"
   ]
  },
  {
   "cell_type": "code",
   "execution_count": 15,
   "id": "3c4f0e2f",
   "metadata": {},
   "outputs": [
    {
     "data": {
      "text/plain": [
       "43"
      ]
     },
     "execution_count": 15,
     "metadata": {},
     "output_type": "execute_result"
    }
   ],
   "source": [
    "n.random.randint(4,55)"
   ]
  },
  {
   "cell_type": "markdown",
   "id": "2511f4f7",
   "metadata": {},
   "source": [
    "## shuffle array"
   ]
  },
  {
   "cell_type": "code",
   "execution_count": 37,
   "id": "04c17e09",
   "metadata": {},
   "outputs": [
    {
     "name": "stdout",
     "output_type": "stream",
     "text": [
      "[51 57 55 63 17 37 24 53 37 59 32 22 26  8 57 21 56 26 13 27 19  7]\n"
     ]
    },
    {
     "data": {
      "text/plain": [
       "array([56, 57,  8, 53, 32, 55, 27, 37, 24, 57, 59, 26, 37, 26, 51, 17, 13,\n",
       "        7, 19, 63, 22, 21])"
      ]
     },
     "execution_count": 37,
     "metadata": {},
     "output_type": "execute_result"
    }
   ],
   "source": [
    "l=n.random.randint(5,66,size=22)\n",
    "print(l)\n",
    "n.random.shuffle(l)\n",
    "l"
   ]
  },
  {
   "cell_type": "markdown",
   "id": "fcaf5bde",
   "metadata": {},
   "source": [
    "## arry wth rndm"
   ]
  },
  {
   "cell_type": "code",
   "execution_count": 17,
   "id": "32a3792e",
   "metadata": {},
   "outputs": [
    {
     "data": {
      "text/plain": [
       "array([[[124, 240, 333],\n",
       "        [278, 342, 443],\n",
       "        [ 23, 238, 259],\n",
       "        [ 20, 150,  57],\n",
       "        [357, 278, 409]],\n",
       "\n",
       "       [[104,  85, 309],\n",
       "        [ 38, 257, 296],\n",
       "        [199, 282, 392],\n",
       "        [241,  76, 352],\n",
       "        [  9, 288, 376]],\n",
       "\n",
       "       [[148, 400, 188],\n",
       "        [ 36, 257, 289],\n",
       "        [198, 384, 204],\n",
       "        [228, 302, 368],\n",
       "        [ 27, 368, 170]],\n",
       "\n",
       "       [[229, 188, 372],\n",
       "        [408, 192, 443],\n",
       "        [ 32, 289, 355],\n",
       "        [442, 216, 142],\n",
       "        [ 41,  15, 197]]])"
      ]
     },
     "execution_count": 17,
     "metadata": {},
     "output_type": "execute_result"
    }
   ],
   "source": [
    "n.random.randint(4,444,size=(4,5,3))"
   ]
  },
  {
   "cell_type": "markdown",
   "id": "a65db544",
   "metadata": {},
   "source": [
    "## uniform norml dstrbtn"
   ]
  },
  {
   "cell_type": "code",
   "execution_count": 29,
   "id": "5c3a89eb",
   "metadata": {},
   "outputs": [
    {
     "data": {
      "text/plain": [
       "array([[[-0.28071481, -1.72793664,  4.7250571 ],\n",
       "        [ 4.46579404,  3.66648867, -2.06465376],\n",
       "        [ 1.91479023,  3.95335165,  7.7431783 ],\n",
       "        [ 6.87563788, -3.66487958,  4.07376154]],\n",
       "\n",
       "       [[ 3.87621904,  0.66713643,  0.8807561 ],\n",
       "        [ 0.52789196,  0.26704199,  0.67638811],\n",
       "        [ 8.28355968, -4.68843066,  5.05557913],\n",
       "        [-0.38779488,  7.22670591,  5.87613533]]])"
      ]
     },
     "execution_count": 29,
     "metadata": {},
     "output_type": "execute_result"
    }
   ],
   "source": [
    "#n.random.rand()\n",
    "#n.random.rand(3,4)\n",
    "n.random.rand(3,2,3)\n",
    "#n.random.uniform()\n",
    "#n.random.uniform(3,55,size=(2,4,5))\n",
    "n.random.normal(3,4,size=(2,4,3))"
   ]
  },
  {
   "cell_type": "code",
   "execution_count": 24,
   "id": "a4ac967e",
   "metadata": {},
   "outputs": [
    {
     "data": {
      "text/plain": [
       "array([[[ 1.18448079, -0.52387118,  0.34238749],\n",
       "        [-0.89338169, -1.63353438, -0.94484221],\n",
       "        [-0.4458736 ,  1.39162262, -0.89853501],\n",
       "        [-0.8890284 , -1.73047398, -1.6021864 ]],\n",
       "\n",
       "       [[-0.92995912, -1.53414264,  0.03617032],\n",
       "        [ 0.8003063 ,  0.59968488,  1.49779588],\n",
       "        [-0.6313376 , -1.21247826, -0.75759311],\n",
       "        [ 0.44328764, -1.29940231, -0.1280579 ]],\n",
       "\n",
       "       [[-0.33023436,  0.6095081 , -0.47000072],\n",
       "        [ 0.96949574,  0.86061327, -1.27202685],\n",
       "        [-0.56845249,  1.76857639, -1.0693055 ],\n",
       "        [-0.51075176, -0.97473549, -1.68626173]],\n",
       "\n",
       "       [[-1.96258793, -0.16898099, -1.09858571],\n",
       "        [-0.21710564, -0.42383078, -0.61811499],\n",
       "        [ 0.25907654, -0.6729527 ,  0.2673888 ],\n",
       "        [ 0.388621  , -0.98492533,  0.89740186]],\n",
       "\n",
       "       [[ 0.25133656,  1.28347162, -0.55658135],\n",
       "        [-0.45518309,  0.36408636, -0.64915353],\n",
       "        [ 0.49004454, -0.0853801 ,  0.96183101],\n",
       "        [-0.41349638, -1.73865722, -0.16384178]]])"
      ]
     },
     "execution_count": 24,
     "metadata": {},
     "output_type": "execute_result"
    }
   ],
   "source": [
    "n.random.randn(5,4,3)"
   ]
  },
  {
   "cell_type": "code",
   "execution_count": 30,
   "id": "d5734926",
   "metadata": {},
   "outputs": [],
   "source": [
    "arr=n.random.randn(3,5,4)"
   ]
  },
  {
   "cell_type": "code",
   "execution_count": 31,
   "id": "1d5dd825",
   "metadata": {},
   "outputs": [
    {
     "data": {
      "text/plain": [
       "array([[[ 1.58403996e+00, -1.31096555e+00, -3.35658911e-01,\n",
       "         -1.15323574e-01],\n",
       "        [ 4.08642098e-01, -1.42108139e-01,  2.55008713e-01,\n",
       "          8.88898201e-01],\n",
       "        [ 5.83195729e-02,  1.02526564e+00, -1.57326486e+00,\n",
       "         -3.27347358e-01],\n",
       "        [ 1.09459896e-01, -7.79136939e-01,  7.23751537e-01,\n",
       "          2.70262836e+00],\n",
       "        [ 6.80200960e-01,  1.76113749e+00, -1.44723247e+00,\n",
       "          9.05633997e-02]],\n",
       "\n",
       "       [[ 1.73345217e+00,  6.15526667e-02,  4.48486772e-01,\n",
       "         -6.47795885e-01],\n",
       "        [-2.30825966e+00, -1.14678573e+00,  2.88633724e-01,\n",
       "         -2.87654445e-01],\n",
       "        [-3.81717530e-01, -7.73012542e-01, -8.42381991e-01,\n",
       "          7.13178632e-02],\n",
       "        [ 2.15182453e-01, -1.07479885e+00, -9.33535589e-02,\n",
       "         -1.29841078e+00],\n",
       "        [-1.33445224e+00,  3.39472225e-01,  1.55414511e+00,\n",
       "         -3.32088266e-01]],\n",
       "\n",
       "       [[ 9.07839397e-01,  8.41540685e-01, -2.17566855e-03,\n",
       "          9.99556199e-01],\n",
       "        [ 1.05042624e+00, -2.41173606e-01, -1.55427168e-01,\n",
       "          5.84319122e-01],\n",
       "        [-1.24619163e+00,  1.46455368e+00, -6.68382647e-01,\n",
       "         -5.94699716e-02],\n",
       "        [ 9.82901749e-01,  5.48583426e-01,  4.66105066e-01,\n",
       "         -8.78784131e-01],\n",
       "        [-1.18389404e-01,  3.86859647e-01,  8.78412684e-01,\n",
       "          3.55038230e-01]]])"
      ]
     },
     "execution_count": 31,
     "metadata": {},
     "output_type": "execute_result"
    }
   ],
   "source": [
    "arr"
   ]
  },
  {
   "cell_type": "code",
   "execution_count": 33,
   "id": "6acd8fb6",
   "metadata": {},
   "outputs": [
    {
     "data": {
      "text/plain": [
       "array([[[ 1.58403996e+00, -1.31096555e+00, -3.35658911e-01,\n",
       "         -1.15323574e-01],\n",
       "        [ 4.08642098e-01, -1.42108139e-01,  2.55008713e-01,\n",
       "          8.88898201e-01],\n",
       "        [ 5.83195729e-02,  1.02526564e+00, -1.57326486e+00,\n",
       "         -3.27347358e-01],\n",
       "        [ 1.09459896e-01, -7.79136939e-01,  7.23751537e-01,\n",
       "          2.70262836e+00],\n",
       "        [ 6.80200960e-01,  1.76113749e+00, -1.44723247e+00,\n",
       "          9.05633997e-02]],\n",
       "\n",
       "       [[ 9.07839397e-01,  8.41540685e-01, -2.17566855e-03,\n",
       "          9.99556199e-01],\n",
       "        [ 1.05042624e+00, -2.41173606e-01, -1.55427168e-01,\n",
       "          5.84319122e-01],\n",
       "        [-1.24619163e+00,  1.46455368e+00, -6.68382647e-01,\n",
       "         -5.94699716e-02],\n",
       "        [ 9.82901749e-01,  5.48583426e-01,  4.66105066e-01,\n",
       "         -8.78784131e-01],\n",
       "        [-1.18389404e-01,  3.86859647e-01,  8.78412684e-01,\n",
       "          3.55038230e-01]],\n",
       "\n",
       "       [[ 1.73345217e+00,  6.15526667e-02,  4.48486772e-01,\n",
       "         -6.47795885e-01],\n",
       "        [-2.30825966e+00, -1.14678573e+00,  2.88633724e-01,\n",
       "         -2.87654445e-01],\n",
       "        [-3.81717530e-01, -7.73012542e-01, -8.42381991e-01,\n",
       "          7.13178632e-02],\n",
       "        [ 2.15182453e-01, -1.07479885e+00, -9.33535589e-02,\n",
       "         -1.29841078e+00],\n",
       "        [-1.33445224e+00,  3.39472225e-01,  1.55414511e+00,\n",
       "         -3.32088266e-01]]])"
      ]
     },
     "execution_count": 33,
     "metadata": {},
     "output_type": "execute_result"
    }
   ],
   "source": []
  },
  {
   "cell_type": "code",
   "execution_count": 7,
   "id": "5c0b1993",
   "metadata": {},
   "outputs": [
    {
     "name": "stdout",
     "output_type": "stream",
     "text": [
      "[[[  4   3  33]\n",
      "  [ 43   2   1]]\n",
      "\n",
      " [[ 34  23 231]\n",
      "  [  4   2  11]]]\n"
     ]
    }
   ],
   "source": [
    "ar=n.array([[[4,3,33],[43,2,1]],[[34,23,231],[4,2,11]]])\n",
    "print(ar)"
   ]
  },
  {
   "cell_type": "code",
   "execution_count": 9,
   "id": "010c5e27",
   "metadata": {},
   "outputs": [
    {
     "name": "stdout",
     "output_type": "stream",
     "text": [
      "[[ 38  26 264]\n",
      " [ 47   4  12]] clmn wise\n",
      "[[ 47   5  34]\n",
      " [ 38  25 242]]\n"
     ]
    }
   ],
   "source": [
    "print(ar.sum(axis=0),\"clmn wise\") #sum columns here 0 matri 0 row 0 clmn sum with 1 matrix 0 row 0 clmn....\n",
    "print(ar.sum(axis=1)) #sum rows here 0 matrix 0 clm and 1 clmn sum"
   ]
  },
  {
   "cell_type": "code",
   "execution_count": 29,
   "id": "8c64320e",
   "metadata": {},
   "outputs": [
    {
     "data": {
      "text/plain": [
       "array([[[-2.12222772e+00,  1.04452349e+00, -1.91296892e-01,\n",
       "          6.20669570e-01],\n",
       "        [ 3.43976855e-01, -1.48945900e+00, -8.60237991e-01,\n",
       "          4.36665462e-01],\n",
       "        [ 4.78153535e-01, -1.04921694e+00,  6.06398102e-01,\n",
       "          1.77679249e+00],\n",
       "        [-1.33754904e+00,  9.70320182e-01, -1.08681607e+00,\n",
       "         -6.61425073e-02]],\n",
       "\n",
       "       [[ 2.68564038e-01, -8.27172462e-01,  2.77212808e-01,\n",
       "          4.64687355e-01],\n",
       "        [ 3.58416499e-01, -1.14306331e+00,  8.11256741e-01,\n",
       "          1.98062307e-01],\n",
       "        [-4.72619178e-01, -1.52335444e+00, -5.79669977e-01,\n",
       "          6.25247530e-01],\n",
       "        [ 2.71294660e-01, -5.82608059e-01,  2.98728578e-01,\n",
       "          1.27597132e+00]],\n",
       "\n",
       "       [[-1.19039320e+00,  2.17120825e-01, -3.06846180e-02,\n",
       "         -2.04161148e+00],\n",
       "        [-2.20137722e-01, -1.19016530e+00, -7.66712493e-02,\n",
       "         -2.54200440e-01],\n",
       "        [-6.87823314e-02,  8.57416494e-01, -1.07459536e+00,\n",
       "         -5.76044414e-01],\n",
       "        [-1.77983308e+00, -2.04436256e+00, -5.95297995e-01,\n",
       "          1.86704090e+00]],\n",
       "\n",
       "       [[ 1.09965824e+00, -2.90582191e-01,  2.35857696e-01,\n",
       "         -2.13775470e+00],\n",
       "        [ 2.74864013e-01,  6.03867908e-01,  1.73715056e+00,\n",
       "          2.70658427e-01],\n",
       "        [ 1.85689263e-01, -2.08107824e+00,  1.85083475e+00,\n",
       "         -7.54856855e-01],\n",
       "        [ 6.61000400e-01, -2.27275807e-01, -2.31783366e-01,\n",
       "         -1.56826704e-03]]])"
      ]
     },
     "execution_count": 29,
     "metadata": {},
     "output_type": "execute_result"
    }
   ],
   "source": [
    "arr=n.random.randn(4,4,4)\n",
    "arr"
   ]
  },
  {
   "cell_type": "code",
   "execution_count": 30,
   "id": "e81ac6a4",
   "metadata": {},
   "outputs": [
    {
     "data": {
      "text/plain": [
       "array([[-2.12222772e+00,  1.04452349e+00, -1.91296892e-01,\n",
       "         6.20669570e-01,  2.68564038e-01, -8.27172462e-01,\n",
       "         2.77212808e-01,  4.64687355e-01, -1.19039320e+00,\n",
       "         2.17120825e-01, -3.06846180e-02, -2.04161148e+00,\n",
       "         1.09965824e+00, -2.90582191e-01,  2.35857696e-01,\n",
       "        -2.13775470e+00],\n",
       "       [ 3.43976855e-01, -1.48945900e+00, -8.60237991e-01,\n",
       "         4.36665462e-01,  3.58416499e-01, -1.14306331e+00,\n",
       "         8.11256741e-01,  1.98062307e-01, -2.20137722e-01,\n",
       "        -1.19016530e+00, -7.66712493e-02, -2.54200440e-01,\n",
       "         2.74864013e-01,  6.03867908e-01,  1.73715056e+00,\n",
       "         2.70658427e-01],\n",
       "       [ 4.78153535e-01, -1.04921694e+00,  6.06398102e-01,\n",
       "         1.77679249e+00, -4.72619178e-01, -1.52335444e+00,\n",
       "        -5.79669977e-01,  6.25247530e-01, -6.87823314e-02,\n",
       "         8.57416494e-01, -1.07459536e+00, -5.76044414e-01,\n",
       "         1.85689263e-01, -2.08107824e+00,  1.85083475e+00,\n",
       "        -7.54856855e-01],\n",
       "       [-1.33754904e+00,  9.70320182e-01, -1.08681607e+00,\n",
       "        -6.61425073e-02,  2.71294660e-01, -5.82608059e-01,\n",
       "         2.98728578e-01,  1.27597132e+00, -1.77983308e+00,\n",
       "        -2.04436256e+00, -5.95297995e-01,  1.86704090e+00,\n",
       "         6.61000400e-01, -2.27275807e-01, -2.31783366e-01,\n",
       "        -1.56826704e-03]])"
      ]
     },
     "execution_count": 30,
     "metadata": {},
     "output_type": "execute_result"
    }
   ],
   "source": [
    "n.hstack(arr) # in evry array all 1 rows become 1 array 2 rows become 1 array..."
   ]
  },
  {
   "cell_type": "code",
   "execution_count": 31,
   "id": "01723f45",
   "metadata": {},
   "outputs": [
    {
     "data": {
      "text/plain": [
       "array([[-2.12222772e+00,  1.04452349e+00, -1.91296892e-01,\n",
       "         6.20669570e-01],\n",
       "       [ 3.43976855e-01, -1.48945900e+00, -8.60237991e-01,\n",
       "         4.36665462e-01],\n",
       "       [ 4.78153535e-01, -1.04921694e+00,  6.06398102e-01,\n",
       "         1.77679249e+00],\n",
       "       [-1.33754904e+00,  9.70320182e-01, -1.08681607e+00,\n",
       "        -6.61425073e-02],\n",
       "       [ 2.68564038e-01, -8.27172462e-01,  2.77212808e-01,\n",
       "         4.64687355e-01],\n",
       "       [ 3.58416499e-01, -1.14306331e+00,  8.11256741e-01,\n",
       "         1.98062307e-01],\n",
       "       [-4.72619178e-01, -1.52335444e+00, -5.79669977e-01,\n",
       "         6.25247530e-01],\n",
       "       [ 2.71294660e-01, -5.82608059e-01,  2.98728578e-01,\n",
       "         1.27597132e+00],\n",
       "       [-1.19039320e+00,  2.17120825e-01, -3.06846180e-02,\n",
       "        -2.04161148e+00],\n",
       "       [-2.20137722e-01, -1.19016530e+00, -7.66712493e-02,\n",
       "        -2.54200440e-01],\n",
       "       [-6.87823314e-02,  8.57416494e-01, -1.07459536e+00,\n",
       "        -5.76044414e-01],\n",
       "       [-1.77983308e+00, -2.04436256e+00, -5.95297995e-01,\n",
       "         1.86704090e+00],\n",
       "       [ 1.09965824e+00, -2.90582191e-01,  2.35857696e-01,\n",
       "        -2.13775470e+00],\n",
       "       [ 2.74864013e-01,  6.03867908e-01,  1.73715056e+00,\n",
       "         2.70658427e-01],\n",
       "       [ 1.85689263e-01, -2.08107824e+00,  1.85083475e+00,\n",
       "        -7.54856855e-01],\n",
       "       [ 6.61000400e-01, -2.27275807e-01, -2.31783366e-01,\n",
       "        -1.56826704e-03]])"
      ]
     },
     "execution_count": 31,
     "metadata": {},
     "output_type": "execute_result"
    }
   ],
   "source": [
    "n.vstack(arr) # all 1 columns become 1 array"
   ]
  },
  {
   "cell_type": "code",
   "execution_count": 32,
   "id": "7346375d",
   "metadata": {},
   "outputs": [
    {
     "name": "stdout",
     "output_type": "stream",
     "text": [
      "[[ 4  3 33]\n",
      " [43  2  1]\n",
      " [ 4  2 11]]\n",
      "now opra\n",
      "[[ 4  2  1]\n",
      " [ 4  2 11]\n",
      " [43  3 33]] columnwise\n",
      "[[ 3  4 33]\n",
      " [ 1  2 43]\n",
      " [ 2  4 11]] rowwise\n"
     ]
    }
   ],
   "source": [
    "print(ar)\n",
    "print('now opra')\n",
    "print(n.sort(ar,axis=0),'columnwise')\n",
    "print(n.sort(ar,axis=1),'rowwise')"
   ]
  },
  {
   "cell_type": "code",
   "execution_count": 22,
   "id": "9e071da8",
   "metadata": {},
   "outputs": [
    {
     "data": {
      "text/plain": [
       "array([ 4,  2, 43,  3,  1])"
      ]
     },
     "execution_count": 22,
     "metadata": {},
     "output_type": "execute_result"
    }
   ],
   "source": [
    "ar[[0,2,1,0,1],[0,1,0,1,2]] #first is rows second is columns"
   ]
  },
  {
   "cell_type": "code",
   "execution_count": 23,
   "id": "9363624c",
   "metadata": {},
   "outputs": [
    {
     "data": {
      "text/plain": [
       "array([[ 2,  1],\n",
       "       [ 2, 11]])"
      ]
     },
     "execution_count": 23,
     "metadata": {},
     "output_type": "execute_result"
    }
   ],
   "source": [
    "ar[1:,1:]"
   ]
  },
  {
   "cell_type": "code",
   "execution_count": 34,
   "id": "00a3d6fd",
   "metadata": {},
   "outputs": [
    {
     "data": {
      "text/plain": [
       "array([[11]])"
      ]
     },
     "execution_count": 34,
     "metadata": {},
     "output_type": "execute_result"
    }
   ],
   "source": [
    "ar[2:,2:]"
   ]
  },
  {
   "cell_type": "code",
   "execution_count": 37,
   "id": "0b7ad87f",
   "metadata": {},
   "outputs": [
    {
     "data": {
      "text/plain": [
       "array([[ 4, 11]])"
      ]
     },
     "execution_count": 37,
     "metadata": {},
     "output_type": "execute_result"
    }
   ],
   "source": [
    "ar[2:,::2] #start end step"
   ]
  },
  {
   "cell_type": "code",
   "execution_count": 26,
   "id": "1c43068e",
   "metadata": {},
   "outputs": [],
   "source": [
    "aa=n.arange(24).reshape(3,4,2)"
   ]
  },
  {
   "cell_type": "code",
   "execution_count": 27,
   "id": "a4feee62",
   "metadata": {},
   "outputs": [
    {
     "data": {
      "text/plain": [
       "array([[[ 0,  1],\n",
       "        [ 2,  3],\n",
       "        [ 4,  5],\n",
       "        [ 6,  7]],\n",
       "\n",
       "       [[ 8,  9],\n",
       "        [10, 11],\n",
       "        [12, 13],\n",
       "        [14, 15]],\n",
       "\n",
       "       [[16, 17],\n",
       "        [18, 19],\n",
       "        [20, 21],\n",
       "        [22, 23]]])"
      ]
     },
     "execution_count": 27,
     "metadata": {},
     "output_type": "execute_result"
    }
   ],
   "source": [
    "aa"
   ]
  },
  {
   "cell_type": "code",
   "execution_count": 28,
   "id": "22840aef",
   "metadata": {},
   "outputs": [
    {
     "data": {
      "text/plain": [
       "array([17,  7, 10, 15,  4])"
      ]
     },
     "execution_count": 28,
     "metadata": {},
     "output_type": "execute_result"
    }
   ],
   "source": [
    "aa[[2,0,1,1,0],[0,3,1,3,2],[1,1,0,1,0]] # accessing values in 3d single elements"
   ]
  },
  {
   "cell_type": "code",
   "execution_count": 29,
   "id": "56e5c4ef",
   "metadata": {},
   "outputs": [
    {
     "data": {
      "text/plain": [
       "array([[[13],\n",
       "        [15]],\n",
       "\n",
       "       [[21],\n",
       "        [23]]])"
      ]
     },
     "execution_count": 29,
     "metadata": {},
     "output_type": "execute_result"
    }
   ],
   "source": [
    "aa[1:,2:,1:] #first is which matrix second is which row third which column "
   ]
  },
  {
   "cell_type": "code",
   "execution_count": 30,
   "id": "f6b02f34",
   "metadata": {},
   "outputs": [
    {
     "data": {
      "text/plain": [
       "array([[[7]]])"
      ]
     },
     "execution_count": 30,
     "metadata": {},
     "output_type": "execute_result"
    }
   ],
   "source": [
    "aa[0:1,3:,1:] #accessing particular value only from 3d"
   ]
  },
  {
   "cell_type": "code",
   "execution_count": 31,
   "id": "162977c0",
   "metadata": {},
   "outputs": [
    {
     "data": {
      "text/plain": [
       "array([7, 3, 1, 4, 2])"
      ]
     },
     "execution_count": 31,
     "metadata": {},
     "output_type": "execute_result"
    }
   ],
   "source": [
    "aa[[0],[3,1,0,2,1],[1,1,1,0,0]] #accessing multiple values from one matrix only in 3d"
   ]
  },
  {
   "cell_type": "code",
   "execution_count": 38,
   "id": "3aaa933d",
   "metadata": {},
   "outputs": [
    {
     "data": {
      "text/plain": [
       "(2, 2, 3)"
      ]
     },
     "execution_count": 38,
     "metadata": {},
     "output_type": "execute_result"
    }
   ],
   "source": [
    "bb=n.array([[[4,43,34],[32,321,323]],[[43,23,1],[43,23,12]]])\n",
    "bb.shape"
   ]
  },
  {
   "cell_type": "code",
   "execution_count": 39,
   "id": "e234d23c",
   "metadata": {},
   "outputs": [
    {
     "data": {
      "text/plain": [
       "array([[[  4,  32],\n",
       "        [ 43,  43]],\n",
       "\n",
       "       [[ 43, 321],\n",
       "        [ 23,  23]],\n",
       "\n",
       "       [[ 34, 323],\n",
       "        [  1,  12]]])"
      ]
     },
     "execution_count": 39,
     "metadata": {},
     "output_type": "execute_result"
    }
   ],
   "source": [
    "#transpose of matrix from one form to another form \n",
    "bb.transpose(2,0,1)  #here 2 is 3 clmns 0 is 2 matris 1 is 2 rows in above shape"
   ]
  },
  {
   "cell_type": "code",
   "execution_count": 40,
   "id": "6b366faf",
   "metadata": {},
   "outputs": [
    {
     "name": "stdout",
     "output_type": "stream",
     "text": [
      "[[[ 43  32  12]\n",
      "  [432  12  35]]\n",
      "\n",
      " [[ 43  32 354]\n",
      "  [ 43  32  54]]\n",
      "\n",
      " [[ 43  32  12]\n",
      "  [ 43  23   1]]]\n"
     ]
    },
    {
     "data": {
      "text/plain": [
       "18"
      ]
     },
     "execution_count": 40,
     "metadata": {},
     "output_type": "execute_result"
    }
   ],
   "source": [
    "cc=n.array([[[43,32,12],[432,12,35]],[[43,32,354],[43,32,54]],[[43,32,12],[43,23,1]]])\n",
    "print(cc)\n",
    "cc.size"
   ]
  },
  {
   "cell_type": "code",
   "execution_count": 41,
   "id": "93a1a134",
   "metadata": {},
   "outputs": [
    {
     "data": {
      "text/plain": [
       "(3, 2, 3)"
      ]
     },
     "execution_count": 41,
     "metadata": {},
     "output_type": "execute_result"
    }
   ],
   "source": [
    "cc.shape"
   ]
  },
  {
   "cell_type": "code",
   "execution_count": 36,
   "id": "eeab97c8",
   "metadata": {},
   "outputs": [
    {
     "name": "stdout",
     "output_type": "stream",
     "text": [
      "[[[ 43  43  43]\n",
      "  [ 32  32  32]\n",
      "  [ 12 354  12]]\n",
      "\n",
      " [[432  43  43]\n",
      "  [ 12  32  23]\n",
      "  [ 35  54   1]]]\n",
      "second\n",
      "[[[ 43  43  43]\n",
      "  [432  43  43]]\n",
      "\n",
      " [[ 32  32  32]\n",
      "  [ 12  32  23]]\n",
      "\n",
      " [[ 12 354  12]\n",
      "  [ 35  54   1]]]\n"
     ]
    }
   ],
   "source": [
    "print(cc.transpose(1,2,0))  # here 1 is 2 matrs,2 is 3 rows,0 is 3 colmns\n",
    "print('second')\n",
    "print(cc.transpose(2,1,0)) #here 2 is 3 matrs, 1 is 2 rows ,0 is 3 colmns"
   ]
  },
  {
   "cell_type": "code",
   "execution_count": 37,
   "id": "92a4c129",
   "metadata": {},
   "outputs": [
    {
     "data": {
      "text/plain": [
       "array([[[ 43,  32,  12],\n",
       "        [432,  12,  35]],\n",
       "\n",
       "       [[ 43,  32, 354],\n",
       "        [ 43,  32,  54]],\n",
       "\n",
       "       [[ 43,  32,  12],\n",
       "        [ 43,  23,   1]]])"
      ]
     },
     "execution_count": 37,
     "metadata": {},
     "output_type": "execute_result"
    }
   ],
   "source": [
    "cc"
   ]
  },
  {
   "cell_type": "code",
   "execution_count": 38,
   "id": "c00155be",
   "metadata": {},
   "outputs": [],
   "source": [
    "dd=n.arange(16).reshape(4,4)"
   ]
  },
  {
   "cell_type": "code",
   "execution_count": 39,
   "id": "5f984bf9",
   "metadata": {},
   "outputs": [
    {
     "data": {
      "text/plain": [
       "array([[ 0,  1,  2,  3],\n",
       "       [ 4,  5,  6,  7],\n",
       "       [ 8,  9, 10, 11],\n",
       "       [12, 13, 14, 15]])"
      ]
     },
     "execution_count": 39,
     "metadata": {},
     "output_type": "execute_result"
    }
   ],
   "source": [
    "dd"
   ]
  },
  {
   "cell_type": "code",
   "execution_count": 41,
   "id": "fb717149",
   "metadata": {},
   "outputs": [
    {
     "data": {
      "text/plain": [
       "[array([[ 0,  1],\n",
       "        [ 4,  5],\n",
       "        [ 8,  9],\n",
       "        [12, 13]]),\n",
       " array([[ 2,  3],\n",
       "        [ 6,  7],\n",
       "        [10, 11],\n",
       "        [14, 15]])]"
      ]
     },
     "execution_count": 41,
     "metadata": {},
     "output_type": "execute_result"
    }
   ],
   "source": [
    "n.hsplit(dd,2) # dividing of arrays into two horizontally"
   ]
  },
  {
   "cell_type": "code",
   "execution_count": 42,
   "id": "70fc7431",
   "metadata": {},
   "outputs": [
    {
     "data": {
      "text/plain": [
       "[array([[0, 1, 2, 3],\n",
       "        [4, 5, 6, 7]]),\n",
       " array([[ 8,  9, 10, 11],\n",
       "        [12, 13, 14, 15]])]"
      ]
     },
     "execution_count": 42,
     "metadata": {},
     "output_type": "execute_result"
    }
   ],
   "source": [
    "n.vsplit(dd,2) # dividing of arrays into two vertically"
   ]
  },
  {
   "cell_type": "code",
   "execution_count": 43,
   "id": "877fd4ed",
   "metadata": {},
   "outputs": [
    {
     "name": "stdout",
     "output_type": "stream",
     "text": [
      "[[ 43  32  12]\n",
      " [431 323   4]] [[ 54 322  32]\n",
      " [ 43   5  65]]\n"
     ]
    }
   ],
   "source": [
    "a=n.array([[43,32,12],[431,323,4]])\n",
    "b=n.array([[54,322,32],[43,5,65]])\n",
    "print(a,b)"
   ]
  },
  {
   "cell_type": "code",
   "execution_count": 47,
   "id": "041e171b",
   "metadata": {},
   "outputs": [
    {
     "data": {
      "text/plain": [
       "array([[ 43,  32,  12,  54, 322,  32],\n",
       "       [431, 323,   4,  43,   5,  65]])"
      ]
     },
     "execution_count": 47,
     "metadata": {},
     "output_type": "execute_result"
    }
   ],
   "source": [
    "n.hstack((a,b))"
   ]
  },
  {
   "cell_type": "code",
   "execution_count": 48,
   "id": "6bc3f83a",
   "metadata": {},
   "outputs": [
    {
     "data": {
      "text/plain": [
       "array([[ 43,  32,  12,  54, 322,  32],\n",
       "       [431, 323,   4,  43,   5,  65]])"
      ]
     },
     "execution_count": 48,
     "metadata": {},
     "output_type": "execute_result"
    }
   ],
   "source": [
    "n.concatenate((a,b),axis=1)  # row wise 1 row in one array with the another array row"
   ]
  },
  {
   "cell_type": "code",
   "execution_count": 49,
   "id": "5014ce02",
   "metadata": {},
   "outputs": [
    {
     "data": {
      "text/plain": [
       "array([[ 43,  32,  12],\n",
       "       [431, 323,   4],\n",
       "       [ 54, 322,  32],\n",
       "       [ 43,   5,  65]])"
      ]
     },
     "execution_count": 49,
     "metadata": {},
     "output_type": "execute_result"
    }
   ],
   "source": [
    "n.vstack((a,b))"
   ]
  },
  {
   "cell_type": "code",
   "execution_count": 53,
   "id": "f09205f0",
   "metadata": {},
   "outputs": [
    {
     "name": "stdout",
     "output_type": "stream",
     "text": [
      "[[ 43  32  12]\n",
      " [431 323   4]\n",
      " [ 54 322  32]\n",
      " [ 43   5  65]]\n"
     ]
    }
   ],
   "source": [
    "print(n.concatenate((a,b),axis=0)) #column wise adding\n"
   ]
  },
  {
   "cell_type": "code",
   "execution_count": 58,
   "id": "9aebe7bd",
   "metadata": {},
   "outputs": [],
   "source": [
    "sq=n.arange(16).reshape(4,4)"
   ]
  },
  {
   "cell_type": "code",
   "execution_count": 59,
   "id": "3dbc4b9b",
   "metadata": {},
   "outputs": [
    {
     "data": {
      "text/plain": [
       "array([[ 0,  1,  2,  3],\n",
       "       [ 4,  5,  6,  7],\n",
       "       [ 8,  9, 10, 11],\n",
       "       [12, 13, 14, 15]])"
      ]
     },
     "execution_count": 59,
     "metadata": {},
     "output_type": "execute_result"
    }
   ],
   "source": [
    "sq"
   ]
  },
  {
   "cell_type": "code",
   "execution_count": 61,
   "id": "0342dada",
   "metadata": {},
   "outputs": [
    {
     "data": {
      "text/plain": [
       "array([[ 9.00719925e+14, -4.50359963e+14, -1.80143985e+15,\n",
       "         1.35107989e+15],\n",
       "       [-2.40191980e+15,  2.70215978e+15,  1.80143985e+15,\n",
       "        -2.10167983e+15],\n",
       "       [ 2.10167983e+15, -4.05323966e+15,  1.80143985e+15,\n",
       "         1.50119988e+14],\n",
       "       [-6.00479950e+14,  1.80143985e+15, -1.80143985e+15,\n",
       "         6.00479950e+14]])"
      ]
     },
     "execution_count": 61,
     "metadata": {},
     "output_type": "execute_result"
    }
   ],
   "source": [
    "n.linalg.inv(sq) #inverse  of a matrix and it must be in the square matrix form"
   ]
  },
  {
   "cell_type": "code",
   "execution_count": 63,
   "id": "4e2f734b",
   "metadata": {},
   "outputs": [
    {
     "data": {
      "text/plain": [
       "array([[ 1680,  1940,  2200,  2460],\n",
       "       [ 4880,  5620,  6360,  7100],\n",
       "       [ 8080,  9300, 10520, 11740],\n",
       "       [11280, 12980, 14680, 16380]])"
      ]
     },
     "execution_count": 63,
     "metadata": {},
     "output_type": "execute_result"
    }
   ],
   "source": [
    "n.linalg.matrix_power(sq,3) #multiplication of matrix withit owns"
   ]
  },
  {
   "cell_type": "code",
   "execution_count": 64,
   "id": "b46e79ec",
   "metadata": {},
   "outputs": [
    {
     "data": {
      "text/plain": [
       "array([[1, 0, 0, 0],\n",
       "       [0, 1, 0, 0],\n",
       "       [0, 0, 1, 0],\n",
       "       [0, 0, 0, 1]])"
      ]
     },
     "execution_count": 64,
     "metadata": {},
     "output_type": "execute_result"
    }
   ],
   "source": [
    "n.linalg.matrix_power(sq,0)"
   ]
  },
  {
   "cell_type": "code",
   "execution_count": 65,
   "id": "aee22dc7",
   "metadata": {},
   "outputs": [
    {
     "data": {
      "text/plain": [
       "array([[ 0,  1,  2,  3],\n",
       "       [ 4,  5,  6,  7],\n",
       "       [ 8,  9, 10, 11],\n",
       "       [12, 13, 14, 15]])"
      ]
     },
     "execution_count": 65,
     "metadata": {},
     "output_type": "execute_result"
    }
   ],
   "source": [
    "n.linalg.matrix_power(sq,1)"
   ]
  },
  {
   "cell_type": "code",
   "execution_count": 68,
   "id": "7c68dd11",
   "metadata": {},
   "outputs": [
    {
     "data": {
      "text/plain": [
       "-2.9582283945787796e-30"
      ]
     },
     "execution_count": 68,
     "metadata": {},
     "output_type": "execute_result"
    }
   ],
   "source": [
    "n.linalg.det(sq) #determinant of the matrix and be in sqr matrix"
   ]
  },
  {
   "cell_type": "code",
   "execution_count": 3,
   "id": "72a60674",
   "metadata": {},
   "outputs": [
    {
     "name": "stdout",
     "output_type": "stream",
     "text": [
      "enter 9 number34 54 34 3245 56 76 4 32 45\n",
      "enter34 65 23 1 11 13 45 32 21\n"
     ]
    }
   ],
   "source": [
    "import numpy as n\n",
    "inq=list(map(int,input('enter 9 number').split( ))) \n",
    "vin=list(map(int,input('enter').split()))                          # interview question"
   ]
  },
  {
   "cell_type": "code",
   "execution_count": 17,
   "id": "c9f4aea4",
   "metadata": {},
   "outputs": [],
   "source": [
    "ak=n.array(inq).reshape(3,3)\n",
    "mk=n.array(vin).reshape(3,3)"
   ]
  },
  {
   "cell_type": "code",
   "execution_count": 18,
   "id": "6747dd7c",
   "metadata": {},
   "outputs": [
    {
     "name": "stdout",
     "output_type": "stream",
     "text": [
      "[[1156 3510  782]\n",
      " [3245  616  988]\n",
      " [ 180 1024  945]]\n"
     ]
    }
   ],
   "source": [
    "nn=n.multiply(ak,mk)\n",
    "print(nn);\n",
    "kk=n.array(nn).reshape(9,1)"
   ]
  },
  {
   "cell_type": "code",
   "execution_count": 19,
   "id": "d7683e41",
   "metadata": {},
   "outputs": [
    {
     "data": {
      "text/plain": [
       "array([3510])"
      ]
     },
     "execution_count": 19,
     "metadata": {},
     "output_type": "execute_result"
    }
   ],
   "source": [
    "max(kk)"
   ]
  },
  {
   "cell_type": "code",
   "execution_count": null,
   "id": "3cb4f8c0",
   "metadata": {},
   "outputs": [],
   "source": []
  }
 ],
 "metadata": {
  "kernelspec": {
   "display_name": "Python 3 (ipykernel)",
   "language": "python",
   "name": "python3"
  },
  "language_info": {
   "codemirror_mode": {
    "name": "ipython",
    "version": 3
   },
   "file_extension": ".py",
   "mimetype": "text/x-python",
   "name": "python",
   "nbconvert_exporter": "python",
   "pygments_lexer": "ipython3",
   "version": "3.9.12"
  }
 },
 "nbformat": 4,
 "nbformat_minor": 5
}
